{
 "cells": [
  {
   "cell_type": "code",
   "execution_count": 1,
   "id": "1f1d3eca-24ea-4a37-95b9-84444e5eba66",
   "metadata": {},
   "outputs": [
    {
     "name": "stdout",
     "output_type": "stream",
     "text": [
      "Hello, world!\n"
     ]
    }
   ],
   "source": [
    "print (\"Hello, world!\")"
   ]
  },
  {
   "cell_type": "markdown",
   "id": "226e60e8-1906-45d6-b511-8be55e9af619",
   "metadata": {},
   "source": [
    "# My First Markdown Heading"
   ]
  },
  {
   "cell_type": "markdown",
   "id": "9da294d1-0a9e-4820-a86b-9d051ef781e0",
   "metadata": {},
   "source": [
    "## My Second Markdown Heading"
   ]
  },
  {
   "cell_type": "markdown",
   "id": "4801b946-3fa6-45a6-83e2-6625031dec56",
   "metadata": {},
   "source": [
    "This is some **bold** text."
   ]
  },
  {
   "cell_type": "markdown",
   "id": "e5415de3-f371-49e8-a082-11f65c9ede7f",
   "metadata": {},
   "source": [
    "1. First item\n",
    "2. Second item\n",
    "3. Thrid item"
   ]
  },
  {
   "cell_type": "code",
   "execution_count": 5,
   "id": "5057582c-5a02-44f1-bf39-186f6d3345d9",
   "metadata": {},
   "outputs": [],
   "source": [
    "my_var = 5"
   ]
  },
  {
   "cell_type": "code",
   "execution_count": 6,
   "id": "821f1ee8-cc66-4d3a-9495-9e849bb5e0e4",
   "metadata": {},
   "outputs": [
    {
     "name": "stdout",
     "output_type": "stream",
     "text": [
      "10\n"
     ]
    }
   ],
   "source": [
    "result = my_var * 2\n",
    "print(result)"
   ]
  },
  {
   "cell_type": "code",
   "execution_count": null,
   "id": "c5bddbef-b66b-42ec-9183-f0cf02573d30",
   "metadata": {},
   "outputs": [],
   "source": []
  }
 ],
 "metadata": {
  "kernelspec": {
   "display_name": "Python 3 (ipykernel)",
   "language": "python",
   "name": "python3"
  },
  "language_info": {
   "codemirror_mode": {
    "name": "ipython",
    "version": 3
   },
   "file_extension": ".py",
   "mimetype": "text/x-python",
   "name": "python",
   "nbconvert_exporter": "python",
   "pygments_lexer": "ipython3",
   "version": "3.10.9"
  }
 },
 "nbformat": 4,
 "nbformat_minor": 5
}
